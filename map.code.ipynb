{
 "cells": [
  {
   "cell_type": "code",
   "execution_count": null,
   "metadata": {},
   "outputs": [],
   "source": [
    "%pip install pandas\n",
    "%pip install folium"
   ]
  },
  {
   "cell_type": "code",
   "execution_count": null,
   "metadata": {},
   "outputs": [],
   "source": [
    "import folium\n",
    "import pandas as pd\n",
    "import io\n",
    "import matplotlib.pyplot as plt\n",
    "\n",
    "\n",
    "# Import folium MarkerCluster plugin\n",
    "from folium.plugins import MarkerCluster\n"
   ]
  },
  {
   "cell_type": "code",
   "execution_count": null,
   "metadata": {},
   "outputs": [],
   "source": [
    "#import burden/prevalence data\n",
    "data = pd.read_csv('./data.csv')\n",
    "data.head()\n",
    "\n",
    "#import lat/long for sites\n",
    "sites = pd.read_csv('./sites.csv')\n",
    "\n",
    "sites.head()\n",
    "\n",
    "#merge the two datasets\n",
    "full = pd.merge(data, sites)\n",
    "\n",
    "full.head()"
   ]
  },
  {
   "cell_type": "code",
   "execution_count": null,
   "metadata": {},
   "outputs": [],
   "source": [
    "##get mean prev and burden by site at each timepoint, create empty variable\n",
    "full.reset_index()\n",
    "full_group = full.groupby(['site','date','lat','long','NAME','Label'], as_index=False).agg(mean_burden=('barr burden','mean'),infected=('barr prev','mean'))\n",
    "full_group['uninfected'] = 1 - full_group['infected']\n",
    "full_group['empty'] = 0\n",
    "\n",
    "##create rows for missing sample periods within sites. marked as empty\n",
    "for index, site in sites.iterrows():\n",
    "    for date in range(1,10):\n",
    "        row = full_group.loc[(full_group['site'] == site.site) & (full_group['date'] == date)]\n",
    "        if row.empty:\n",
    "            full_group = full_group._append(\n",
    "                {\n",
    "                    \"site\":site.site,\n",
    "                    \"date\":date,\n",
    "                    \"lat\":site.lat,\n",
    "                    \"long\":site.long,\n",
    "                    \"NAME\":site.NAME,\n",
    "                    \"Label\":site.Label,\n",
    "                    \"mean_burden\":0,\n",
    "                    \"infected\":0,\n",
    "                    \"uninfected\":0,\n",
    "                    \"empty\":1\n",
    "                 },\n",
    "                 ignore_index=True\n",
    "            )\n",
    "\n",
    "full_group.reset_index()\n",
    "full_group.sort_values(by=['site', 'date'], inplace=True, ignore_index=True)\n",
    "full_group.reset_index()\n",
    "\n",
    "full_group\n",
    "\n"
   ]
  },
  {
   "cell_type": "code",
   "execution_count": null,
   "metadata": {},
   "outputs": [],
   "source": [
    "##create pie charts\n",
    "pie_charts_data = zip(full_group[\"infected\"], full_group[\"uninfected\"], full_group[\"empty\"])\n",
    "fig = plt.figure(figsize=(0.5, 0.5))\n",
    "fig.patch.set_alpha(0)\n",
    "ax = fig.add_subplot(111)\n",
    "plots = []\n",
    "for sizes in pie_charts_data:\n",
    "    ax.pie(sizes, colors=(\"#e6194b\", \"#19e6b4\", \"#cccccc\"))\n",
    "    buff = io.StringIO()\n",
    "    plt.savefig(buff, format=\"SVG\")\n",
    "    buff.seek(0)\n",
    "    svg = buff.read()\n",
    "    svg = svg.replace(\"\\n\", \"\")\n",
    "    plots.append(svg)\n",
    "    plt.cla()\n",
    "plt.clf()\n",
    "plt.close()\n",
    "\n",
    "\n"
   ]
  },
  {
   "cell_type": "code",
   "execution_count": null,
   "metadata": {},
   "outputs": [],
   "source": [
    "# Start location for map\n",
    "start_coordinate = [40.4600201,-89.0124789]\n",
    "map = folium.Map(location=start_coordinate, zoom_start=9)"
   ]
  },
  {
   "cell_type": "code",
   "execution_count": null,
   "metadata": {},
   "outputs": [],
   "source": [
    "\n",
    "#create clusters of piecharts \n",
    "marker_cluster = MarkerCluster()\n",
    "map.add_child(marker_cluster)\n",
    "i = 0\n",
    "for lat, long in zip(full_group.lat, full_group.long):\n",
    "    marker = folium.Marker([lat, long])\n",
    "    icon = folium.DivIcon(html=plots[i])\n",
    "    marker.add_child(icon)\n",
    "    popup = folium.Popup(\n",
    "        \"\\Prevalance: {}<br>Sample Period: {}<br>Mean Burden: {}\".format(\n",
    "            round(full_group.infected[i], 3), \n",
    "            full_group.date[i],\n",
    "            round(full_group.mean_burden[i], 3)\n",
    "        ),\n",
    "        min_width=120,\n",
    "        max_width=120\n",
    "    )\n",
    "    marker.add_child(popup)\n",
    "    #map.add_child(marker)\n",
    "    marker_cluster.add_child(marker)\n",
    "    i += 1\n",
    "#map.get_root().add_child(legend)\n",
    "\n",
    "\n",
    "map.save('map.html')\n",
    "map"
   ]
  }
 ],
 "metadata": {
  "kernelspec": {
   "display_name": "Python 3",
   "language": "python",
   "name": "python3"
  },
  "language_info": {
   "codemirror_mode": {
    "name": "ipython",
    "version": 3
   },
   "file_extension": ".py",
   "mimetype": "text/x-python",
   "name": "python",
   "nbconvert_exporter": "python",
   "pygments_lexer": "ipython3",
   "version": "3.11.9"
  }
 },
 "nbformat": 4,
 "nbformat_minor": 2
}
